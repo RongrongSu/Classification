{
 "cells": [
  {
   "cell_type": "code",
   "execution_count": 86,
   "metadata": {},
   "outputs": [],
   "source": [
    "import os\n",
    "import numpy as np\n",
    "import math\n",
    "import pandas as pd\n",
    "import matplotlib.pyplot as plt\n",
    "import math"
   ]
  },
  {
   "cell_type": "code",
   "execution_count": 87,
   "metadata": {},
   "outputs": [],
   "source": [
    "new_col=[1]*20\n",
    "new_col2=[1]*100\n",
    "idx=0\n",
    "name=['x1','x2']\n",
    "col='x0'\n",
    "train1=pd.read_csv('traininput1.csv',names=name)\n",
    "train1.insert(loc=idx,value=new_col,column=col)\n",
    "train2=pd.read_csv('traininput2.csv',names=name)\n",
    "train2.insert(loc=idx,value=new_col,column=col)\n",
    "train3=pd.read_csv('traininput3.csv',names=name)\n",
    "train3.insert(loc=idx,value=new_col,column=col)\n",
    "train4=pd.read_csv('traininput4.csv',names=name)\n",
    "train4.insert(loc=idx,value=new_col,column=col)\n",
    "train5=pd.read_csv('traininput5.csv',names=name)\n",
    "train5.insert(loc=idx,value=new_col,column=col)\n",
    "train6=pd.read_csv('traininput6.csv',names=name)\n",
    "train6.insert(loc=idx,value=new_col,column=col)\n",
    "train7=pd.read_csv('traininput7.csv',names=name)\n",
    "train7.insert(loc=idx,value=new_col,column=col)\n",
    "train8=pd.read_csv('traininput8.csv',names=name)\n",
    "train8.insert(loc=idx,value=new_col,column=col)\n",
    "train9=pd.read_csv('traininput9.csv',names=name)\n",
    "train9.insert(loc=idx,value=new_col,column=col)\n",
    "train10=pd.read_csv('traininput10.csv',names=name)\n",
    "train10.insert(loc=idx,value=new_col,column=col)\n",
    "target1=pd.read_csv('trainTarget1.csv',header=None)\n",
    "target2=pd.read_csv('trainTarget2.csv',header=None)\n",
    "target3=pd.read_csv('trainTarget3.csv',header=None)\n",
    "target4=pd.read_csv('trainTarget4.csv',header=None)\n",
    "target5=pd.read_csv('trainTarget5.csv',header=None)\n",
    "target6=pd.read_csv('trainTarget6.csv',header=None)\n",
    "target7=pd.read_csv('trainTarget7.csv',header=None)\n",
    "target8=pd.read_csv('trainTarget8.csv',header=None)\n",
    "target9=pd.read_csv('trainTarget9.csv',header=None)\n",
    "target10=pd.read_csv('trainTarget10.csv',header=None)\n",
    "testinput=pd.read_csv('testinput.csv',names=name)\n",
    "testinput.insert(loc=idx,value=new_col2,column=col)\n",
    "testTarget=pd.read_csv('testTarget.csv',header=None)"
   ]
  },
  {
   "cell_type": "code",
   "execution_count": 88,
   "metadata": {},
   "outputs": [],
   "source": [
    "train=[train1,train2,train3,train4,train5,train6,train7,train8,train9,train10]\n",
    "targetset=[target1,target2,target3,target4,target5,target6,target7,target8,target9,target10]"
   ]
  },
  {
   "cell_type": "code",
   "execution_count": 89,
   "metadata": {},
   "outputs": [],
   "source": [
    "def cal_beta(x,y,lambda_parameter):\n",
    "    A=np.mat(np.transpose(x))*np.mat(x)+lambda_parameter*np.identity(3)\n",
    "    beta=np.mat(np.linalg.inv(A))*np.mat(np.transpose(x))*np.mat(y)\n",
    "    return beta"
   ]
  },
  {
   "cell_type": "code",
   "execution_count": 159,
   "metadata": {},
   "outputs": [],
   "source": [
    "def regression(lambda_parameter):\n",
    "    error=0\n",
    "    for i in range(10):\n",
    "        err=0\n",
    "        valset=np.array(train[i])\n",
    "        labels_val=np.array(targetset[i])\n",
    "\n",
    "        trainset=train[:i]+train[i+1:]\n",
    "        targets_train=targetset[:i]+targetset[i+1:]\n",
    "\n",
    "        x=np.concatenate((trainset[0],trainset[1],trainset[2],trainset[3],trainset[4],trainset[5],trainset[6],trainset[7],trainset[8]),axis=0)\n",
    "        y=np.concatenate((targets_train[0],targets_train[1],targets_train[2],targets_train[3],targets_train[4],targets_train[5],targets_train[6],targets_train[7],targets_train[8]),axis=0)\n",
    "\n",
    "        beta=cal_beta(x,y,lambda_parameter)\n",
    "\n",
    "        predict=valset*beta\n",
    "        \n",
    "        #get rid of for loop \n",
    "        \n",
    "        err = np.sqrt(np.mat(np.transpose(predict-labels_val))*(np.mat(predict-labels_val)))\n",
    "        \n",
    "        error+=err\n",
    "    avg=error/10\n",
    "    return (avg,beta)"
   ]
  },
  {
   "cell_type": "code",
   "execution_count": 162,
   "metadata": {},
   "outputs": [],
   "source": [
    "w=0\n",
    "error_vec=[]\n",
    "beta_vec=[]\n",
    "while w<4:\n",
    "    w+=0.1\n",
    "    result=regression(w)\n",
    "    error_vec.append(result[0])\n",
    "    beta_vec.append(result[1])"
   ]
  },
  {
   "cell_type": "code",
   "execution_count": 155,
   "metadata": {
    "scrolled": true
   },
   "outputs": [],
   "source": [
    "y=[]\n",
    "for i in range(len(error_vec)):\n",
    "    y.append(float(error_vec[i]))"
   ]
  },
  {
   "cell_type": "code",
   "execution_count": 161,
   "metadata": {},
   "outputs": [
    {
     "data": {
      "text/plain": [
       "13"
      ]
     },
     "execution_count": 161,
     "metadata": {},
     "output_type": "execute_result"
    }
   ],
   "source": [
    "y.index(min(y))"
   ]
  },
  {
   "cell_type": "code",
   "execution_count": 163,
   "metadata": {},
   "outputs": [
    {
     "data": {
      "text/plain": [
       "5.155746962582555"
      ]
     },
     "execution_count": 163,
     "metadata": {},
     "output_type": "execute_result"
    }
   ],
   "source": [
    "min(y)"
   ]
  },
  {
   "cell_type": "code",
   "execution_count": 156,
   "metadata": {
    "scrolled": true
   },
   "outputs": [
    {
     "data": {
      "image/png": "[encoded data removed]",
      "text/plain": [
       "<Figure size 432x288 with 1 Axes>"
      ]
     },
     "metadata": {
      "needs_background": "light"
     },
     "output_type": "display_data"
    }
   ],
   "source": [
    "x=np.arange(0, 4, 0.1)\n",
    "plt.plot(x,y)\n",
    "plt.xticks(np.arange(min(x), max(x), 0.1))\n",
    "plt.show()"
   ]
  },
  {
   "cell_type": "code",
   "execution_count": 168,
   "metadata": {},
   "outputs": [],
   "source": [
    "train_tot=np.concatenate((train1,train2,train3,train4,train5,train6,train7,train8,train9,train10),axis=0)\n",
    "label_tot=np.concatenate((target1,target2,target3,target4,target5,target6,target7,target8,target9,target10),axis=0).flatten()\n",
    "test = np.array(testinput)\n",
    "test_label = np.array(testTarget)\n",
    "\n",
    "beta_f=beta_vec[13]\n",
    "predict=test*beta_f\n",
    "err = np.sqrt(np.mat(np.transpose(predict-test_label))*(np.mat(predict-test_label)))"
   ]
  },
  {
   "cell_type": "code",
   "execution_count": 169,
   "metadata": {},
   "outputs": [
    {
     "data": {
      "text/plain": [
       "matrix([[12.06606286]])"
      ]
     },
     "execution_count": 169,
     "metadata": {},
     "output_type": "execute_result"
    }
   ],
   "source": [
    "err"
   ]
  },
  {
   "cell_type": "code",
   "execution_count": null,
   "metadata": {},
   "outputs": [],
   "source": []
  }
 ],
 "metadata": {
  "kernelspec": {
   "display_name": "Python 3",
   "language": "python",
   "name": "python3"
  },
  "language_info": {
   "codemirror_mode": {
    "name": "ipython",
    "version": 3
   },
   "file_extension": ".py",
   "mimetype": "text/x-python",
   "name": "python",
   "nbconvert_exporter": "python",
   "pygments_lexer": "ipython3",
   "version": "3.7.3"
  }
 },
 "nbformat": 4,
 "nbformat_minor": 2
}
