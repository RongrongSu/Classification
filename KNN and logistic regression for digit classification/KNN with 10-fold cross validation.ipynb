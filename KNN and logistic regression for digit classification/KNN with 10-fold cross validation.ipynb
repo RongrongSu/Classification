{
 "cells": [
  {
   "cell_type": "code",
   "execution_count": 2,
   "metadata": {},
   "outputs": [],
   "source": [
    "import os\n",
    "import numpy as np\n",
    "import math\n",
    "import pandas as pd\n",
    "from collections import Counter\n",
    "from sklearn.metrics import accuracy_score\n",
    "import matplotlib.pyplot as plt"
   ]
  },
  {
   "cell_type": "code",
   "execution_count": 3,
   "metadata": {},
   "outputs": [],
   "source": [
    "train1 = pd.read_csv('trainData1.csv',header=None)\n",
    "train2 = pd.read_csv('trainData2.csv',header=None)\n",
    "train3 = pd.read_csv('trainData3.csv',header=None)\n",
    "train4 = pd.read_csv('trainData4.csv',header=None)\n",
    "train5 = pd.read_csv('trainData5.csv',header=None)\n",
    "train6 = pd.read_csv('trainData6.csv',header=None)\n",
    "train7 = pd.read_csv('trainData7.csv',header=None)\n",
    "train8 = pd.read_csv('trainData8.csv',header=None)\n",
    "train9 = pd.read_csv('trainData9.csv',header=None)\n",
    "train10 = pd.read_csv('trainData10.csv',header=None)\n",
    "label1 = pd.read_csv('trainLabels1.csv',header=None)\n",
    "label2 = pd.read_csv('trainLabels2.csv',header=None)\n",
    "label3 = pd.read_csv('trainLabels3.csv',header=None)\n",
    "label4 = pd.read_csv('trainLabels4.csv',header=None)\n",
    "label5 = pd.read_csv('trainLabels5.csv',header=None)\n",
    "label6 = pd.read_csv('trainLabels6.csv',header=None)\n",
    "label7 = pd.read_csv('trainLabels7.csv',header=None)\n",
    "label8 = pd.read_csv('trainLabels8.csv',header=None)\n",
    "label9 = pd.read_csv('trainLabels9.csv',header=None)\n",
    "label10 = pd.read_csv('trainLabels10.csv',header=None)\n",
    "test = pd.read_csv('testData.csv',header=None)\n",
    "test_label = pd.read_csv('testLabels.csv',header=None)"
   ]
  },
  {
   "cell_type": "code",
   "execution_count": 4,
   "metadata": {},
   "outputs": [],
   "source": [
    "train=[train1,train2,train3,train4,train5,train6,train7,train8,train9,train10]\n",
    "labels=[label1,label2,label3,label4,label5,label6,label7,label8,label9,label10]"
   ]
  },
  {
   "cell_type": "code",
   "execution_count": 218,
   "metadata": {},
   "outputs": [],
   "source": [
    "errorate=[]\n",
    "for r in range(1,31):\n",
    "    total=0\n",
    "    for i in range(len(train)):\n",
    "        valset=np.array(train[i])\n",
    "        labels_val=np.array(labels[i])\n",
    "\n",
    "\n",
    "        trainset=train[:i]+train[i+1:]\n",
    "        labels_train=labels[:i]+labels[i+1:]\n",
    "\n",
    "        dataset=np.concatenate((trainset[0],trainset[1],trainset[2],trainset[3],trainset[4],trainset[5],trainset[6],trainset[7],trainset[8]),axis=0)\n",
    "        labelset=np.concatenate((labels_train[0],labels_train[1],labels_train[2],labels_train[3],labels_train[4],labels_train[5],labels_train[6],labels_train[7],labels_train[8]),axis=0)\n",
    "        labelset_l=labelset.flatten()\n",
    "\n",
    "        prediction=[]\n",
    "\n",
    "        for j in range(len(valset)):\n",
    "            d=[]\n",
    "            for l in range(len(dataset)):\n",
    "                distance=np.sqrt(np.sum(np.square(valset[j]-dataset[l])))\n",
    "                d.append([distance,l])\n",
    "            distances=sorted(d)\n",
    "            target=[]\n",
    "\n",
    "            for n in range(r):\n",
    "                index=distances[n][1]\n",
    "                target.append(labelset_l[index])\n",
    "\n",
    "            a=Counter(target).most_common(1)[0][0]\n",
    "            prediction.append(a)\n",
    "\n",
    "        accu=accuracy_score(labels_val,prediction)\n",
    "        total=total+accu\n",
    "\n",
    "    mean=total/10    \n",
    "    errorate.append(mean)"
   ]
  },
  {
   "cell_type": "code",
   "execution_count": 236,
   "metadata": {},
   "outputs": [
    {
     "data": {
      "image/png": "[encoded data removed]",
      "text/plain": [
       "<Figure size 432x288 with 1 Axes>"
      ]
     },
     "metadata": {
      "needs_background": "light"
     },
     "output_type": "display_data"
    }
   ],
   "source": [
    "x=range(len(errorate))\n",
    "ax=plt.plot(x,errorate)\n",
    "plt.xlabel('number of neighbours')\n",
    "plt.ylabel('accuracy rate')\n",
    "ax=plt.gca()\n",
    "ax.locator_params('x',nbins=32)"
   ]
  },
  {
   "cell_type": "code",
   "execution_count": 21,
   "metadata": {},
   "outputs": [],
   "source": [
    "train_tot=np.concatenate((train1,train2,train3,train4,train5,train6,train7,train8,train9,train10),axis=0)\n",
    "label_tot=np.concatenate((label1,label2,label3,label4,label5,label6,label7,label8,label9,label10),axis=0).flatten()\n",
    "test = np.array(pd.read_csv('testData.csv',header=None))\n",
    "test_label = np.array(pd.read_csv('testLabels.csv',header=None))"
   ]
  },
  {
   "cell_type": "code",
   "execution_count": 31,
   "metadata": {},
   "outputs": [],
   "source": [
    "prediction=[]\n",
    "for j in range(len(test)):\n",
    "            d=[]\n",
    "            for l in range(len(train_tot)):\n",
    "                distance=np.sqrt(np.sum(np.square(test[j]-train_tot[l])))\n",
    "                d.append([distance,l])\n",
    "            \n",
    "            distances=sorted(d)\n",
    "            target=[]\n",
    "            \n",
    "            for n in range(19):\n",
    "                index=distances[n][1]\n",
    "                target.append(label_tot[index])\n",
    "\n",
    "            a=Counter(target).most_common(1)[0][0]\n",
    "            prediction.append(a)\n",
    "\n",
    "accu=accuracy_score(test_label,prediction)"
   ]
  },
  {
   "cell_type": "code",
   "execution_count": 32,
   "metadata": {},
   "outputs": [
    {
     "data": {
      "text/plain": [
       "0.7272727272727273"
      ]
     },
     "execution_count": 32,
     "metadata": {},
     "output_type": "execute_result"
    }
   ],
   "source": [
    "accu"
   ]
  },
  {
   "cell_type": "code",
   "execution_count": null,
   "metadata": {},
   "outputs": [],
   "source": []
  }
 ],
 "metadata": {
  "kernelspec": {
   "display_name": "Python 3",
   "language": "python",
   "name": "python3"
  },
  "language_info": {
   "codemirror_mode": {
    "name": "ipython",
    "version": 3
   },
   "file_extension": ".py",
   "mimetype": "text/x-python",
   "name": "python",
   "nbconvert_exporter": "python",
   "pygments_lexer": "ipython3",
   "version": "3.7.3"
  }
 },
 "nbformat": 4,
 "nbformat_minor": 2
}
