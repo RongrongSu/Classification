{
 "cells": [
  {
   "cell_type": "code",
   "execution_count": 55,
   "metadata": {},
   "outputs": [],
   "source": [
    "import pandas as pd\n",
    "import numpy as np\n",
    "import matplotlib.pyplot as plt\n",
    "import time"
   ]
  },
  {
   "cell_type": "code",
   "execution_count": 114,
   "metadata": {},
   "outputs": [],
   "source": [
    "train1 = pd.read_csv('trainInput1.csv',header=None)\n",
    "train2 = pd.read_csv('trainInput2.csv',header=None)\n",
    "train3 = pd.read_csv('trainInput3.csv',header=None)\n",
    "train4 = pd.read_csv('trainInput4.csv',header=None)\n",
    "train5 = pd.read_csv('trainInput5.csv',header=None)\n",
    "train6 = pd.read_csv('trainInput6.csv',header=None)\n",
    "train7 = pd.read_csv('trainInput7.csv',header=None)\n",
    "train8 = pd.read_csv('trainInput8.csv',header=None)\n",
    "train9 = pd.read_csv('trainInput9.csv',header=None)\n",
    "train10 = pd.read_csv('trainInput10.csv',header=None)\n",
    "target1 = pd.read_csv('trainTarget1.csv',header=None)\n",
    "target2 = pd.read_csv('trainTarget2.csv',header=None)\n",
    "target3 = pd.read_csv('trainTarget3.csv',header=None)\n",
    "target4 = pd.read_csv('trainTarget4.csv',header=None)\n",
    "target5 = pd.read_csv('trainTarget5.csv',header=None)\n",
    "target6 = pd.read_csv('trainTarget6.csv',header=None)\n",
    "target7 = pd.read_csv('trainTarget7.csv',header=None)\n",
    "target8 = pd.read_csv('trainTarget8.csv',header=None)\n",
    "target9 = pd.read_csv('trainTarget9.csv',header=None)\n",
    "target10 = pd.read_csv('trainTarget10.csv',header=None)\n",
    "train=[train1,train2,train3,train4,train5,train6,train7,train8,train9,train10]\n",
    "target=[target1,target2,target3,target4,target5,target6,target7,target8,target9,target10]"
   ]
  },
  {
   "cell_type": "code",
   "execution_count": 107,
   "metadata": {},
   "outputs": [],
   "source": [
    "test = pd.read_csv('testInput.csv',header=None)\n",
    "test=np.asarray(test)\n",
    "test_target = pd.read_csv('testTarget.csv',header=None)\n",
    "test_target=np.asarray(test_target)"
   ]
  },
  {
   "cell_type": "code",
   "execution_count": 99,
   "metadata": {},
   "outputs": [],
   "source": [
    "def identity(a,b):\n",
    "    return np.dot(a,b)\n",
    "\n",
    "def guassian(a,b,sigma):\n",
    "     return np.exp((-(np.linalg.norm(a-b)**2))/(2*sigma**2))\n",
    "    \n",
    "def polynomial(a,b,degree):\n",
    "    return (np.dot(a,b)+1)**degree"
   ]
  },
  {
   "cell_type": "code",
   "execution_count": 100,
   "metadata": {},
   "outputs": [],
   "source": [
    "def cal_k1(a):\n",
    "    row,col=a.shape\n",
    "    k_matrix=np.dot(a,a.T)\n",
    "    b=np.linalg.inv(k_matrix + np.identity(row))\n",
    "    return (b)"
   ]
  },
  {
   "cell_type": "code",
   "execution_count": 101,
   "metadata": {},
   "outputs": [],
   "source": [
    "def get_predict1(x,X,Y,y):\n",
    "\n",
    "    t1= identity(x,X.T)\n",
    "    t2=cal_k1(X)\n",
    "    predict=np.dot(np.dot(t1,t2),Y)\n",
    "    \n",
    "    err = np.dot(np.transpose(predict-y), (predict-y))/len(predict)\n",
    "    \n",
    "    return (err)"
   ]
  },
  {
   "cell_type": "code",
   "execution_count": 102,
   "metadata": {},
   "outputs": [],
   "source": [
    "def cal_k2(a,b,sigma):\n",
    "    row1,col1=a.shape\n",
    "    row2,col2=b.shape\n",
    "    k_matrix=np.zeros(shape=(row1,row2))\n",
    "    x1=np.asarray(a)\n",
    "    x2=np.asarray(b)\n",
    "    i=0\n",
    "    for x11 in x1:\n",
    "        j=0\n",
    "        for x21 in x2:\n",
    "            k_matrix[i][j] = guassian(x11,x21,sigma)\n",
    "            j+=1\n",
    "        i+=1\n",
    "    #b=np.linalg.inv(k_matrix + np.identity(row))   \n",
    "    return (k_matrix)"
   ]
  },
  {
   "cell_type": "code",
   "execution_count": 127,
   "metadata": {},
   "outputs": [],
   "source": [
    "def get_predict2(x,X,Y,y,sigma):\n",
    "    \n",
    "    \n",
    "    t1= cal_k2(x,X,sigma)\n",
    "    K=cal_k2(X,X,sigma)\n",
    "    nrow,ncol=K.shape\n",
    "    t2=np.linalg.inv(K + np.identity(nrow))   \n",
    "    predict=np.dot(np.dot(t1,t2),Y)\n",
    "    \n",
    "    err = np.dot(np.transpose(predict-y), (predict-y))/len(predict)\n",
    "    \n",
    "    return (err)"
   ]
  },
  {
   "cell_type": "code",
   "execution_count": 104,
   "metadata": {},
   "outputs": [],
   "source": [
    "def cal_k3(a,degree):\n",
    "    row,col=a.shape\n",
    "    k_matrix=polynomial(a,a.T,degree)\n",
    "    b=np.linalg.inv(k_matrix + np.identity(row))      \n",
    "    return (b)"
   ]
  },
  {
   "cell_type": "code",
   "execution_count": 141,
   "metadata": {},
   "outputs": [],
   "source": [
    "def get_predict3(x,X,Y,y,degree):\n",
    "\n",
    "    t1= polynomial(x,X.T,degree)\n",
    "    t2=cal_k3(X,degree)\n",
    "    predict=np.dot(np.dot(t1,t2),Y)\n",
    "    \n",
    "    err = np.dot(np.transpose(predict-y), (predict-y))/len(predict)\n",
    "    \n",
    "    return (err)"
   ]
  },
  {
   "cell_type": "code",
   "execution_count": 120,
   "metadata": {},
   "outputs": [],
   "source": [
    "def q3_1():\n",
    "    x=np.concatenate((train[0],train[1],train[2],train[3],train[4],train[5],train[6],train[7],train[8],train[9]),axis=0)\n",
    "    y=np.concatenate((target[0],target[1],target[2],target[3],target[4],target[5],target[6],target[7],target[8],target[9]),axis=0)\n",
    "    \n",
    "    result=get_predict1(test,x,y,test_target)\n",
    "    return result"
   ]
  },
  {
   "cell_type": "code",
   "execution_count": 121,
   "metadata": {},
   "outputs": [],
   "source": [
    "an1=q3_1()"
   ]
  },
  {
   "cell_type": "code",
   "execution_count": 122,
   "metadata": {},
   "outputs": [
    {
     "data": {
      "text/plain": [
       "array([[3.59062069]])"
      ]
     },
     "execution_count": 122,
     "metadata": {},
     "output_type": "execute_result"
    }
   ],
   "source": [
    "an1"
   ]
  },
  {
   "cell_type": "code",
   "execution_count": 128,
   "metadata": {},
   "outputs": [],
   "source": [
    "def error_two(sigma):\n",
    "    error = 0\n",
    "    e=[]\n",
    "    for i in range(10):\n",
    "        err=0\n",
    "        valset = np.array(train[i])\n",
    "        target_val = np.array(targets[i])\n",
    "        \n",
    "        trainset=train[:i]+train[i+1:]\n",
    "        targets_train=target[:i]+target[i+1:]\n",
    "        \n",
    "        x=np.concatenate((trainset[0],trainset[1],trainset[2],trainset[3],trainset[4],trainset[5],trainset[6],trainset[7],trainset[8]),axis=0)\n",
    "        y=np.concatenate((targets_train[0],targets_train[1],targets_train[2],targets_train[3],targets_train[4],targets_train[5],targets_train[6],targets_train[7],targets_train[8]),axis=0)\n",
    "        \n",
    "        st=time.time()\n",
    "        err=get_predict2(valset,x,y,target_val,sigma)\n",
    "        \n",
    "        error+=err\n",
    "    \n",
    "    avg=error/10\n",
    "    return (avg)\n"
   ]
  },
  {
   "cell_type": "code",
   "execution_count": 176,
   "metadata": {},
   "outputs": [],
   "source": [
    "def q3_2():\n",
    "    error=[]\n",
    "    t=[]\n",
    "    for i in range(1,7,1):\n",
    "        start=time.time()\n",
    "        re=error_two(i)\n",
    "        end=time.time()\n",
    "        error.append(re)\n",
    "        t.append(end-start)\n",
    "    return (error,t)"
   ]
  },
  {
   "cell_type": "code",
   "execution_count": 177,
   "metadata": {},
   "outputs": [],
   "source": [
    "an2=q3_2()"
   ]
  },
  {
   "cell_type": "code",
   "execution_count": 178,
   "metadata": {},
   "outputs": [
    {
     "data": {
      "text/plain": [
       "[0.03587079048156738,\n",
       " 0.03248715400695801,\n",
       " 0.030263185501098633,\n",
       " 0.03156781196594238,\n",
       " 0.02753615379333496,\n",
       " 0.026665925979614258]"
      ]
     },
     "execution_count": 178,
     "metadata": {},
     "output_type": "execute_result"
    }
   ],
   "source": [
    "an2[1]"
   ]
  },
  {
   "cell_type": "code",
   "execution_count": 179,
   "metadata": {},
   "outputs": [
    {
     "data": {
      "text/plain": [
       "[<matplotlib.lines.Line2D at 0x115993b00>]"
      ]
     },
     "execution_count": 179,
     "metadata": {},
     "output_type": "execute_result"
    },
    {
     "data": {
      "image/png": "[encoded data removed]",
      "text/plain": [
       "<Figure size 432x288 with 1 Axes>"
      ]
     },
     "metadata": {
      "needs_background": "light"
     },
     "output_type": "display_data"
    }
   ],
   "source": [
    "plt.plot(x,an2[1])"
   ]
  },
  {
   "cell_type": "code",
   "execution_count": 173,
   "metadata": {},
   "outputs": [
    {
     "data": {
      "text/plain": [
       "array([[0.55858866]])"
      ]
     },
     "execution_count": 173,
     "metadata": {},
     "output_type": "execute_result"
    }
   ],
   "source": [
    "an2[0]"
   ]
  },
  {
   "cell_type": "code",
   "execution_count": 148,
   "metadata": {},
   "outputs": [],
   "source": [
    "x=np.arange(1, 7, 1)\n",
    "yy1=[]\n",
    "for i in range(len(an2[0])):\n",
    "    yy1.append(an2[0][i].item())"
   ]
  },
  {
   "cell_type": "code",
   "execution_count": 150,
   "metadata": {},
   "outputs": [
    {
     "data": {
      "text/plain": [
       "[<matplotlib.lines.Line2D at 0x116f9a6a0>]"
      ]
     },
     "execution_count": 150,
     "metadata": {},
     "output_type": "execute_result"
    },
    {
     "data": {
      "image/png": "[encoded data removed]",
      "text/plain": [
       "<Figure size 432x288 with 1 Axes>"
      ]
     },
     "metadata": {
      "needs_background": "light"
     },
     "output_type": "display_data"
    }
   ],
   "source": [
    "plt.plot(x,yy1)"
   ]
  },
  {
   "cell_type": "code",
   "execution_count": 157,
   "metadata": {},
   "outputs": [],
   "source": [
    "def q3_error(sigma):\n",
    "    xx=np.concatenate((train[0],train[1],train[2],train[3],train[4],train[5],train[6],train[7],train[8],train[9]),axis=0)\n",
    "    yy=np.concatenate((target[0],target[1],target[2],target[3],target[4],target[5],target[6],target[7],target[8],target[9]),axis=0)\n",
    "    \n",
    "    result=get_predict2(test, xx,yy, test_target,sigma)\n",
    "    return (result)"
   ]
  },
  {
   "cell_type": "code",
   "execution_count": 158,
   "metadata": {},
   "outputs": [],
   "source": [
    "error_gau=q3_error(4)"
   ]
  },
  {
   "cell_type": "code",
   "execution_count": 159,
   "metadata": {},
   "outputs": [
    {
     "data": {
      "text/plain": [
       "array([[0.04302516]])"
      ]
     },
     "execution_count": 159,
     "metadata": {},
     "output_type": "execute_result"
    }
   ],
   "source": [
    "error_gau"
   ]
  },
  {
   "cell_type": "code",
   "execution_count": 142,
   "metadata": {},
   "outputs": [],
   "source": [
    "def error_three(degree):\n",
    "    error = 0\n",
    "    e=[]\n",
    "    for i in range(10):\n",
    "        err=0\n",
    "        valset = np.array(train[i])\n",
    "        target_val = np.array(targets[i])\n",
    "        \n",
    "        trainset=train[:i]+train[i+1:]\n",
    "        targets_train=target[:i]+target[i+1:]\n",
    "        \n",
    "        x=np.concatenate((trainset[0],trainset[1],trainset[2],trainset[3],trainset[4],trainset[5],trainset[6],trainset[7],trainset[8]),axis=0)\n",
    "        y=np.concatenate((targets_train[0],targets_train[1],targets_train[2],targets_train[3],targets_train[4],targets_train[5],targets_train[6],targets_train[7],targets_train[8]),axis=0)\n",
    "        \n",
    "       \n",
    "        err=get_predict3(valset,x,y,target_val,degree)\n",
    "       \n",
    "        \n",
    "        error+=err\n",
    "    \n",
    "    avg=error/10\n",
    "    return (avg)"
   ]
  },
  {
   "cell_type": "code",
   "execution_count": 168,
   "metadata": {},
   "outputs": [],
   "source": [
    "def q3_3():\n",
    "    error=[]\n",
    "    t=[]\n",
    "    for i in range(1,5,1):\n",
    "        start=time.time()\n",
    "        re=error_three(i)\n",
    "        end=time.time()\n",
    "        error.append(re)\n",
    "        t.append(end-start)\n",
    "    return (error,t)"
   ]
  },
  {
   "cell_type": "code",
   "execution_count": 169,
   "metadata": {},
   "outputs": [],
   "source": [
    "an3=q3_3()"
   ]
  },
  {
   "cell_type": "code",
   "execution_count": 145,
   "metadata": {},
   "outputs": [
    {
     "data": {
      "text/plain": [
       "[array([[1.29165089]]),\n",
       " array([[0.93364154]]),\n",
       " array([[0.06519886]]),\n",
       " array([[0.05436885]])]"
      ]
     },
     "execution_count": 145,
     "metadata": {},
     "output_type": "execute_result"
    }
   ],
   "source": [
    "an3[0]"
   ]
  },
  {
   "cell_type": "code",
   "execution_count": 151,
   "metadata": {},
   "outputs": [],
   "source": [
    "x2=np.arange(1, 5, 1)\n",
    "yy2=[]\n",
    "for i in range(len(an3[0])):\n",
    "    yy2.append(an3[0][i].item())"
   ]
  },
  {
   "cell_type": "code",
   "execution_count": 152,
   "metadata": {},
   "outputs": [
    {
     "data": {
      "text/plain": [
       "[<matplotlib.lines.Line2D at 0x1170b3ef0>]"
      ]
     },
     "execution_count": 152,
     "metadata": {},
     "output_type": "execute_result"
    },
    {
     "data": {
      "image/png": "[encoded data removed]",
      "text/plain": [
       "<Figure size 432x288 with 1 Axes>"
      ]
     },
     "metadata": {
      "needs_background": "light"
     },
     "output_type": "display_data"
    }
   ],
   "source": [
    "plt.plot(x2,yy2)"
   ]
  },
  {
   "cell_type": "code",
   "execution_count": 170,
   "metadata": {},
   "outputs": [
    {
     "data": {
      "text/plain": [
       "[0.04162478446960449,\n",
       " 0.030818939208984375,\n",
       " 0.03705286979675293,\n",
       " 0.03272867202758789]"
      ]
     },
     "execution_count": 170,
     "metadata": {},
     "output_type": "execute_result"
    }
   ],
   "source": [
    "an3[1]"
   ]
  },
  {
   "cell_type": "code",
   "execution_count": 180,
   "metadata": {},
   "outputs": [
    {
     "data": {
      "text/plain": [
       "[<matplotlib.lines.Line2D at 0x1172c0ef0>]"
      ]
     },
     "execution_count": 180,
     "metadata": {},
     "output_type": "execute_result"
    },
    {
     "data": {
      "image/png": "[encoded data removed]",
      "text/plain": [
       "<Figure size 432x288 with 1 Axes>"
      ]
     },
     "metadata": {
      "needs_background": "light"
     },
     "output_type": "display_data"
    }
   ],
   "source": [
    "plt.plot(x2,an3[1])"
   ]
  },
  {
   "cell_type": "code",
   "execution_count": 163,
   "metadata": {},
   "outputs": [],
   "source": [
    "def q3_perror(degree):\n",
    "    xx=np.concatenate((train[0],train[1],train[2],train[3],train[4],train[5],train[6],train[7],train[8],train[9]),axis=0)\n",
    "    yy=np.concatenate((target[0],target[1],target[2],target[3],target[4],target[5],target[6],target[7],target[8],target[9]),axis=0)\n",
    "    \n",
    "    result=get_predict3(test, xx,yy, test_target,4)\n",
    "    return (result)"
   ]
  },
  {
   "cell_type": "code",
   "execution_count": 164,
   "metadata": {},
   "outputs": [],
   "source": [
    "error_pol=q3_perror(4)"
   ]
  },
  {
   "cell_type": "code",
   "execution_count": 165,
   "metadata": {},
   "outputs": [
    {
     "data": {
      "text/plain": [
       "array([[0.04576615]])"
      ]
     },
     "execution_count": 165,
     "metadata": {},
     "output_type": "execute_result"
    }
   ],
   "source": [
    "error_pol"
   ]
  },
  {
   "cell_type": "code",
   "execution_count": null,
   "metadata": {},
   "outputs": [],
   "source": []
  }
 ],
 "metadata": {
  "kernelspec": {
   "display_name": "Python 3",
   "language": "python",
   "name": "python3"
  },
  "language_info": {
   "codemirror_mode": {
    "name": "ipython",
    "version": 3
   },
   "file_extension": ".py",
   "mimetype": "text/x-python",
   "name": "python",
   "nbconvert_exporter": "python",
   "pygments_lexer": "ipython3",
   "version": "3.7.3"
  }
 },
 "nbformat": 4,
 "nbformat_minor": 2
}
