{
 "cells": [
  {
   "cell_type": "code",
   "execution_count": null,
   "metadata": {},
   "outputs": [],
   "source": [
    "import pandas as pd\n",
    "import numpy as np\n",
    "from sklearn.preprocessing import PolynomialFeatures\n",
    "import matplotlib.pyplot as plt\n",
    "import time\n"
   ]
  },
  {
   "cell_type": "code",
   "execution_count": null,
   "metadata": {},
   "outputs": [],
   "source": [
    "train1 = pd.read_csv('trainInput1.csv',header=None)\n",
    "train2 = pd.read_csv('trainInput2.csv',header=None)\n",
    "train3 = pd.read_csv('trainInput3.csv',header=None)\n",
    "train4 = pd.read_csv('trainInput4.csv',header=None)\n",
    "train5 = pd.read_csv('trainInput5.csv',header=None)\n",
    "train6 = pd.read_csv('trainInput6.csv',header=None)\n",
    "train7 = pd.read_csv('trainInput7.csv',header=None)\n",
    "train8 = pd.read_csv('trainInput8.csv',header=None)\n",
    "train9 = pd.read_csv('trainInput9.csv',header=None)\n",
    "train10 = pd.read_csv('trainInput10.csv',header=None)\n",
    "target1 = pd.read_csv('trainTarget1.csv',header=None)\n",
    "target2 = pd.read_csv('trainTarget2.csv',header=None)\n",
    "target3 = pd.read_csv('trainTarget3.csv',header=None)\n",
    "target4 = pd.read_csv('trainTarget4.csv',header=None)\n",
    "target5 = pd.read_csv('trainTarget5.csv',header=None)\n",
    "target6 = pd.read_csv('trainTarget6.csv',header=None)\n",
    "target7 = pd.read_csv('trainTarget7.csv',header=None)\n",
    "target8 = pd.read_csv('trainTarget8.csv',header=None)\n",
    "target9 = pd.read_csv('trainTarget9.csv',header=None)\n",
    "target10 = pd.read_csv('trainTarget10.csv',header=None)\n",
    "train=[train1,train2,train3,train4,train5,train6,train7,train8,train9,train10]\n",
    "target=[target1,target2,target3,target4,target5,target6,target7,target8,target9,target10]"
   ]
  },
  {
   "cell_type": "code",
   "execution_count": null,
   "metadata": {},
   "outputs": [],
   "source": [
    "def transformation(data,df):\n",
    "    poly=PolynomialFeatures(df)\n",
    "    re = poly.fit_transform(data)\n",
    "    result = np.insert(re,1,0,axis=1)\n",
    "    return result\n",
    "\n",
    "def cal_beta(x,y,lambda_parameter):\n",
    "    A=np.mat(np.transpose(x))*np.mat(x)+lambda_parameter*np.identity(x.shape[1])\n",
    "    beta=np.mat(np.linalg.inv(A))*np.mat(np.transpose(x))*np.mat(y)\n",
    "    return beta\n",
    "\n",
    "def error_one(df,lambda_parameter):\n",
    "    error = 0\n",
    "    e=[]\n",
    "    for i in range(10):\n",
    "        err=0\n",
    "        valset = np.array(train[i])\n",
    "        target_val = np.array(target[i])\n",
    "        \n",
    "        valset=transformation(valset,df)\n",
    "        \n",
    "        trainset=train[:i]+train[i+1:]\n",
    "        targets_train=target[:i]+target[i+1:]\n",
    "        \n",
    "        x=np.concatenate((trainset[0],trainset[1],trainset[2],trainset[3],trainset[4],trainset[5],trainset[6],trainset[7],trainset[8]),axis=0)\n",
    "        y=np.concatenate((targets_train[0],targets_train[1],targets_train[2],targets_train[3],targets_train[4],targets_train[5],targets_train[6],targets_train[7],targets_train[8]),axis=0)\n",
    "\n",
    "        x=transformation(x,df)\n",
    "    \n",
    "        beta=cal_beta(x,y,lambda_parameter)\n",
    "        predict=valset*beta\n",
    "        \n",
    "        err = (np.mat(np.transpose(predict-target_val))*(np.mat(predict-target_val)))/len(predict)\n",
    "        error += err\n",
    "        e.append(err)\n",
    "    \n",
    "    avg=error/10\n",
    "    return (avg,beta)\n",
    "\n",
    "def error():\n",
    "    y=[]\n",
    "    error_vec=[]\n",
    "    beta_vec = []\n",
    "    ti=[]\n",
    "    for i in range(1,5,1):\n",
    "        start=time.time()\n",
    "        y=error_one(i,0.5)\n",
    "        end=time.time()\n",
    "        du=end-start\n",
    "        ti.append(du)\n",
    "        error_vec.append(y[0].item(0))\n",
    "        beta_vec.append(y[1])\n",
    "       \n",
    "    return (error_vec,beta_vec,ti)"
   ]
  },
  {
   "cell_type": "code",
   "execution_count": null,
   "metadata": {},
   "outputs": [],
   "source": [
    "result=error()\n",
    "x=np.arange(1, 5, 1)\n",
    "plt.plot(x,result[0])"
   ]
  }
 ],
 "metadata": {
  "kernelspec": {
   "display_name": "Python 3",
   "language": "python",
   "name": "python3"
  },
  "language_info": {
   "codemirror_mode": {
    "name": "ipython",
    "version": 3
   },
   "file_extension": ".py",
   "mimetype": "text/x-python",
   "name": "python",
   "nbconvert_exporter": "python",
   "pygments_lexer": "ipython3",
   "version": "3.7.3"
  }
 },
 "nbformat": 4,
 "nbformat_minor": 2
}
