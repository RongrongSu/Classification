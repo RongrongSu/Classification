{
 "cells": [
  {
   "cell_type": "code",
   "execution_count": 1,
   "metadata": {},
   "outputs": [],
   "source": [
    "import numpy as np\n",
    "import pandas as pd\n",
    "from sklearn.metrics import accuracy_score\n",
    "import matplotlib.pyplot as plt"
   ]
  },
  {
   "cell_type": "code",
   "execution_count": 2,
   "metadata": {},
   "outputs": [],
   "source": [
    "new_col=[1]*100\n",
    "new_col2=[1]*110\n",
    "idx=0\n",
    "col='w0'\n",
    "train1=pd.read_csv('trainData1.csv',header=None)\n",
    "train1.insert(loc=idx,value=new_col,column=col)\n",
    "train2=pd.read_csv('trainData2.csv',header=None)\n",
    "train2.insert(loc=idx,value=new_col,column=col)\n",
    "train3=pd.read_csv('trainData3.csv',header=None)\n",
    "train3.insert(loc=idx,value=new_col,column=col)\n",
    "train4=pd.read_csv('trainData4.csv',header=None)\n",
    "train4.insert(loc=idx,value=new_col,column=col)\n",
    "train5=pd.read_csv('trainData5.csv',header=None)\n",
    "train5.insert(loc=idx,value=new_col,column=col)\n",
    "train6=pd.read_csv('trainData6.csv',header=None)\n",
    "train6.insert(loc=idx,value=new_col,column=col)\n",
    "train7=pd.read_csv('trainData7.csv',header=None)\n",
    "train7.insert(loc=idx,value=new_col,column=col)\n",
    "train8=pd.read_csv('trainData8.csv',header=None)\n",
    "train8.insert(loc=idx,value=new_col,column=col)\n",
    "train9=pd.read_csv('trainData9.csv',header=None)\n",
    "train9.insert(loc=idx,value=new_col,column=col)\n",
    "train10=pd.read_csv('trainData10.csv',header=None)\n",
    "train10.insert(loc=idx,value=new_col,column=col)\n",
    "target1=pd.read_csv('trainLabels1.csv',header=None)\n",
    "target1.loc[target1[0] == 5, 0] = 1\n",
    "target1.loc[target1[0] == 6, 0] = 0\n",
    "target2=pd.read_csv('trainLabels2.csv',header=None)\n",
    "target2.loc[target2[0] == 5, 0] = 1\n",
    "target2.loc[target2[0] == 6, 0] = 0\n",
    "target3=pd.read_csv('trainLabels3.csv',header=None)\n",
    "target3.loc[target3[0] == 5, 0] = 1\n",
    "target3.loc[target3[0] == 6, 0] = 0\n",
    "target4=pd.read_csv('trainLabels4.csv',header=None)\n",
    "target4.loc[target4[0] == 5, 0] = 1\n",
    "target4.loc[target4[0] == 6, 0] = 0\n",
    "target5=pd.read_csv('trainLabels5.csv',header=None)\n",
    "target5.loc[target5[0] == 5, 0] = 1\n",
    "target5.loc[target5[0] == 6, 0] = 0\n",
    "target6=pd.read_csv('trainLabels6.csv',header=None)\n",
    "target6.loc[target6[0] == 5, 0] = 1\n",
    "target6.loc[target6[0] == 6, 0] = 0\n",
    "target7=pd.read_csv('trainLabels7.csv',header=None)\n",
    "target7.loc[target7[0] == 5, 0] = 1\n",
    "target7.loc[target7[0] == 6, 0] = 0\n",
    "target8=pd.read_csv('trainLabels8.csv',header=None)\n",
    "target8.loc[target8[0] == 5, 0] = 1\n",
    "target8.loc[target8[0] == 6, 0] = 0\n",
    "target9=pd.read_csv('trainLabels9.csv',header=None)\n",
    "target9.loc[target9[0] == 5, 0] = 1\n",
    "target9.loc[target9[0] == 6, 0] = 0\n",
    "target10=pd.read_csv('trainLabels10.csv',header=None)\n",
    "target10.loc[target10[0] == 5, 0] = 1\n",
    "target10.loc[target10[0] == 6, 0] = 0\n",
    "testinput=pd.read_csv('testData.csv',header=None)\n",
    "testinput.insert(loc=idx,value=new_col2,column=col)\n",
    "testTarget=pd.read_csv('testLabels.csv',header=None)\n",
    "testTarget.loc[testTarget[0] == 5, 0] = 1\n",
    "testTarget.loc[testTarget[0] == 6, 0] = 0"
   ]
  },
  {
   "cell_type": "code",
   "execution_count": 3,
   "metadata": {},
   "outputs": [],
   "source": [
    "train=[train1,train2,train3,train4,train5,train6,train7,train8,train9,train10]\n",
    "labels=[target1,target2,target3,target4,target5,target6,target7,target8,target9,target10]"
   ]
  },
  {
   "cell_type": "code",
   "execution_count": 4,
   "metadata": {},
   "outputs": [],
   "source": [
    "def sigmod(x):\n",
    "    return 1/(1+np.exp(-x))\n",
    "\n",
    "def newton_step(curr,y,x,reg):\n",
    "    p=np.array(sigmod(np.dot(x,curr)),ndmin=2)\n",
    "    W=np.diag((p*(1-p))[:,0])\n",
    "    hessian = x.T.dot(W).dot(x)+ reg*np.eye(curr.shape[0])\n",
    "    grad=x.T.dot(y-p)+reg*curr\n",
    "    step=np.dot(np.linalg.inv(hessian), grad)\n",
    "    beta=curr+step\n",
    "    return beta\n",
    "\n",
    "def check_convergence(beta_old, beta_new, tol, iters):\n",
    "    coef_change = np.abs(beta_old - beta_new)\n",
    "    return not (np.any(coef_change>tol) and iters < max_iters)\n",
    "\n",
    "def cal_error(x,y,beta):\n",
    "    prob=pd.DataFrame(sigmod(x.dot(beta)))\n",
    "    prob.loc[prob[0] >= 0.5] = 1\n",
    "    prob.loc[prob[0] < 0.5] = 0\n",
    "    accu=accuracy_score(y,prob)\n",
    "    return accu\n",
    "\n"
   ]
  },
  {
   "cell_type": "code",
   "execution_count": 5,
   "metadata": {},
   "outputs": [],
   "source": [
    "def cal_mean(reg):\n",
    "    \n",
    "    sum_ac=0\n",
    "    \n",
    "    for i in range(10):\n",
    "        \n",
    "        \n",
    "        valset=np.array(train[i])\n",
    "        labels_val=np.array(labels[i])\n",
    "        \n",
    "        trainset=train[:i]+train[i+1:]\n",
    "        labels_train=labels[:i]+labels[i+1:]\n",
    "        \n",
    "        dataset=np.concatenate((trainset[0],trainset[1],trainset[2],trainset[3],trainset[4],trainset[5],trainset[6],trainset[7],trainset[8]),axis=0)\n",
    "        labelset=np.concatenate((labels_train[0],labels_train[1],labels_train[2],labels_train[3],labels_train[4],labels_train[5],labels_train[6],labels_train[7],labels_train[8]),axis=0)\n",
    "        \n",
    "        labelset_l=labelset.flatten()\n",
    "        labelset_l.shape=(900,1)\n",
    "        \n",
    "        \n",
    "        accuracy=0\n",
    "        beta=np.zeros((65,1))\n",
    "        \n",
    "        \n",
    "        for j in range(30):\n",
    "            \n",
    "            beta=newton_step(curr=beta,y=labelset_l,x=dataset,reg=reg)\n",
    "            \n",
    "        \n",
    "        accuracy=cal_error(x=valset,y=labels_val,beta=beta)\n",
    "        \n",
    "        sum_ac += accuracy\n",
    "        \n",
    "        \n",
    "    mean=sum_ac/10\n",
    "    return mean, beta"
   ]
  },
  {
   "cell_type": "code",
   "execution_count": 12,
   "metadata": {},
   "outputs": [],
   "source": [
    "w=0\n",
    "error_vec=[]\n",
    "beta_vec=[]\n",
    "while w<3:\n",
    "    w+=0.05\n",
    "    result=cal_mean(w)\n",
    "    error_vec.append(result[0])\n",
    "    beta_vec.append(result[1])"
   ]
  },
  {
   "cell_type": "code",
   "execution_count": 10,
   "metadata": {},
   "outputs": [],
   "source": [
    "y=[]\n",
    "for i in range(len(error_vec)):\n",
    "    y.append(float(error_vec[i]))"
   ]
  },
  {
   "cell_type": "code",
   "execution_count": 14,
   "metadata": {},
   "outputs": [
    {
     "name": "stdout",
     "output_type": "stream",
     "text": [
      "172\n",
      "0.8869999999999999\n"
     ]
    }
   ],
   "source": [
    "print(y.index(max(y)))\n",
    "print(max(y))"
   ]
  },
  {
   "cell_type": "code",
   "execution_count": 17,
   "metadata": {},
   "outputs": [
    {
     "data": {
      "image/png": "[encoded data removed]",
      "text/plain": [
       "<Figure size 432x288 with 1 Axes>"
      ]
     },
     "metadata": {
      "needs_background": "light"
     },
     "output_type": "display_data"
    }
   ],
   "source": [
    "x=np.arange(0, 300000, 1000)\n",
    "plt.plot(x,y)\n",
    "plt.show()"
   ]
  },
  {
   "cell_type": "code",
   "execution_count": 12,
   "metadata": {},
   "outputs": [],
   "source": [
    "best_beta= beta_vec[172]\n",
    "error_test = cal_error(x=testinput,y=testTarget,beta=best_beta)"
   ]
  },
  {
   "cell_type": "code",
   "execution_count": 16,
   "metadata": {},
   "outputs": [
    {
     "data": {
      "text/plain": [
       "0.9"
      ]
     },
     "execution_count": 16,
     "metadata": {},
     "output_type": "execute_result"
    }
   ],
   "source": [
    "round(error_test,4)"
   ]
  },
  {
   "cell_type": "code",
   "execution_count": 20,
   "metadata": {},
   "outputs": [
    {
     "name": "stdout",
     "output_type": "stream",
     "text": [
      "totally cost 0.583730936050415\n"
     ]
    }
   ],
   "source": [
    "import time\n",
    "time_start=time.time()\n",
    "beta0=np.zeros((65,1))\n",
    "dataset=np.concatenate((train[0],train[1],train[2],train[3],train[4],train[5],train[6],train[7],train[8],train[9]),axis=0)\n",
    "labelset=np.concatenate((labels[0],labels[1],labels[2],labels[3],labels[4],labels[5],labels[6],labels[7],labels[8],labels[9]),axis=0)\n",
    "\n",
    "labelset_l=labelset.flatten()\n",
    "labelset_l.shape=(1000,1)\n",
    "\n",
    "for j in range(20):\n",
    "            \n",
    "            beta0=newton_step(curr=beta0,y=labelset_l,x=dataset,reg=172000)\n",
    "time_end=time.time()\n",
    "print('totally cost',time_end-time_start)"
   ]
  },
  {
   "cell_type": "code",
   "execution_count": 50,
   "metadata": {},
   "outputs": [],
   "source": [
    "b=beta_vec[172].reshape(1,65).flatten()"
   ]
  },
  {
   "cell_type": "code",
   "execution_count": 51,
   "metadata": {},
   "outputs": [
    {
     "data": {
      "text/plain": [
       "array([ 0.00119815, -0.0047883 ,  0.0055751 ,  0.0361309 ,  0.01153084,\n",
       "        0.03006301,  0.06610902,  0.01332119,  0.00196262,  0.01232811,\n",
       "        0.01689479,  0.04108779, -0.00241884,  0.02161624,  0.04891707,\n",
       "        0.00681218, -0.00880535,  0.00074047,  0.022336  ,  0.01251644,\n",
       "       -0.01881764,  0.01401588, -0.00362488, -0.00726108, -0.00936128,\n",
       "        0.00854155,  0.01332021,  0.00014268,  0.02913598,  0.02585164,\n",
       "        0.00699949, -0.01087864,  0.0024594 ,  0.0054138 , -0.01075832,\n",
       "       -0.03739881, -0.02210655, -0.00294714, -0.01423589, -0.00388106,\n",
       "       -0.00908108, -0.00399116, -0.00700294, -0.08400236, -0.04440286,\n",
       "        0.00086372,  0.00152905, -0.02430331, -0.00053034,  0.00179835,\n",
       "       -0.01260738, -0.02789877, -0.02648854,  0.02665574, -0.01931856,\n",
       "       -0.04237307, -0.00045988, -0.00778829, -0.00982074,  0.05074808,\n",
       "        0.02137919, -0.0233653 , -0.04098693, -0.01306087, -0.0043423 ])"
      ]
     },
     "execution_count": 51,
     "metadata": {},
     "output_type": "execute_result"
    }
   ],
   "source": [
    "b"
   ]
  },
  {
   "cell_type": "code",
   "execution_count": 3,
   "metadata": {},
   "outputs": [],
   "source": [
    "def newton_step2(curr,y,x):\n",
    "    p=np.array(sigmod(np.dot(x,curr)),ndmin=2)\n",
    "    W=np.diag((p*(1-p))[:,0])\n",
    "    hessian = x.T.dot(W).dot(x)\n",
    "    grad=x.T.dot(y-p)\n",
    "    step=np.dot(np.linalg.inv(hessian), grad)\n",
    "    beta=curr+step\n",
    "    return beta\n"
   ]
  },
  {
   "cell_type": "code",
   "execution_count": 9,
   "metadata": {},
   "outputs": [],
   "source": [
    "beta0=np.zeros((65,1))\n",
    "dataset=np.concatenate((train[0],train[1],train[2],train[3],train[4],train[5],train[6],train[7],train[8],train[9]),axis=0)\n",
    "labelset=np.concatenate((labels[0],labels[1],labels[2],labels[3],labels[4],labels[5],labels[6],labels[7],labels[8],labels[9]),axis=0)"
   ]
  },
  {
   "cell_type": "code",
   "execution_count": 11,
   "metadata": {},
   "outputs": [],
   "source": [
    "labelset_l=labelset.flatten()\n",
    "labelset_l.shape=(1000,1)"
   ]
  },
  {
   "cell_type": "code",
   "execution_count": 16,
   "metadata": {},
   "outputs": [],
   "source": [
    "aa=[]"
   ]
  },
  {
   "cell_type": "code",
   "execution_count": 30,
   "metadata": {},
   "outputs": [],
   "source": [
    "beta0=np.zeros((65,1))\n",
    "aa=[]\n",
    "for j in range(50):\n",
    "            \n",
    "            beta0=newton_step2(curr=beta0,y=labelset_l,x=dataset)\n",
    "            aa.append(beta0[7])"
   ]
  },
  {
   "cell_type": "code",
   "execution_count": 31,
   "metadata": {},
   "outputs": [
    {
     "data": {
      "text/plain": [
       "[array([0.00870426]),\n",
       " array([0.02369068]),\n",
       " array([0.03673077]),\n",
       " array([0.04347705]),\n",
       " array([0.04481001]),\n",
       " array([0.04485624]),\n",
       " array([0.0448563]),\n",
       " array([0.0448563]),\n",
       " array([0.0448563]),\n",
       " array([0.0448563]),\n",
       " array([0.0448563]),\n",
       " array([0.0448563]),\n",
       " array([0.0448563]),\n",
       " array([0.0448563]),\n",
       " array([0.0448563]),\n",
       " array([0.0448563]),\n",
       " array([0.0448563]),\n",
       " array([0.0448563]),\n",
       " array([0.0448563]),\n",
       " array([0.0448563]),\n",
       " array([0.0448563]),\n",
       " array([0.0448563]),\n",
       " array([0.0448563]),\n",
       " array([0.0448563]),\n",
       " array([0.0448563]),\n",
       " array([0.0448563]),\n",
       " array([0.0448563]),\n",
       " array([0.0448563]),\n",
       " array([0.0448563]),\n",
       " array([0.0448563]),\n",
       " array([0.0448563]),\n",
       " array([0.0448563]),\n",
       " array([0.0448563]),\n",
       " array([0.0448563]),\n",
       " array([0.0448563]),\n",
       " array([0.0448563]),\n",
       " array([0.0448563]),\n",
       " array([0.0448563]),\n",
       " array([0.0448563]),\n",
       " array([0.0448563]),\n",
       " array([0.0448563]),\n",
       " array([0.0448563]),\n",
       " array([0.0448563]),\n",
       " array([0.0448563]),\n",
       " array([0.0448563]),\n",
       " array([0.0448563]),\n",
       " array([0.0448563]),\n",
       " array([0.0448563]),\n",
       " array([0.0448563]),\n",
       " array([0.0448563])]"
      ]
     },
     "execution_count": 31,
     "metadata": {},
     "output_type": "execute_result"
    }
   ],
   "source": [
    "aa"
   ]
  },
  {
   "cell_type": "code",
   "execution_count": null,
   "metadata": {},
   "outputs": [],
   "source": []
  }
 ],
 "metadata": {
  "kernelspec": {
   "display_name": "Python 3",
   "language": "python",
   "name": "python3"
  },
  "language_info": {
   "codemirror_mode": {
    "name": "ipython",
    "version": 3
   },
   "file_extension": ".py",
   "mimetype": "text/x-python",
   "name": "python",
   "nbconvert_exporter": "python",
   "pygments_lexer": "ipython3",
   "version": "3.7.3"
  }
 },
 "nbformat": 4,
 "nbformat_minor": 2
}
