{
 "cells": [
  {
   "cell_type": "code",
   "execution_count": 29,
   "metadata": {},
   "outputs": [],
   "source": [
    "import pandas as pd\n",
    "import numpy as np\n",
    "import time\n",
    "time_start=time.time()"
   ]
  },
  {
   "cell_type": "code",
   "execution_count": 30,
   "metadata": {},
   "outputs": [],
   "source": [
    "train_list = []\n",
    "label_list = []\n",
    "trainset = []\n",
    "labelset = []\n",
    "for i in range(10):\n",
    "    train_list.append('trainData'+str(i+1)+'.csv')\n",
    "    label_list.append('trainLabels'+str(i+1)+'.csv')\n",
    "    trainset.append(pd.read_csv('trainData'+str(i+1)+'.csv',header = None))\n",
    "    labelset.append(pd.read_csv('trainLabels'+str(i+1)+'.csv',header=None))"
   ]
  },
  {
   "cell_type": "code",
   "execution_count": 31,
   "metadata": {},
   "outputs": [],
   "source": [
    "x=[]\n",
    "y=[]\n",
    "for i in range(10):\n",
    "    x.append(trainset[i].values)\n",
    "    y.append(labelset[i].values)\n",
    "x=np.vstack(x)\n",
    "y=np.vstack(y)"
   ]
  },
  {
   "cell_type": "code",
   "execution_count": 32,
   "metadata": {},
   "outputs": [],
   "source": [
    "x=pd.DataFrame(x)\n",
    "y=pd.DataFrame(y)"
   ]
  },
  {
   "cell_type": "code",
   "execution_count": 33,
   "metadata": {},
   "outputs": [],
   "source": [
    "i5=y.index[y[0]==5]\n",
    "i6=y.index[y[0]==6]\n",
    "la5=x.iloc[i5]\n",
    "la6=x.iloc[i6]"
   ]
  },
  {
   "cell_type": "code",
   "execution_count": 34,
   "metadata": {},
   "outputs": [],
   "source": [
    "mu1=la5.mean()\n",
    "mu2=la6.mean()"
   ]
  },
  {
   "cell_type": "code",
   "execution_count": 35,
   "metadata": {},
   "outputs": [],
   "source": [
    "c1=la5.cov()*499/500\n",
    "c2=la6.cov()*499/500\n",
    "c=0.5*c1+0.5*c2"
   ]
  },
  {
   "cell_type": "code",
   "execution_count": 36,
   "metadata": {},
   "outputs": [
    {
     "data": {
      "text/plain": [
       "array([40.06966 , 39.82214 , 43.393942, 42.766668, 40.430838, 42.431356,\n",
       "       43.962156, 35.76039 , 37.639996, 39.744748, 41.88718 , 42.250886,\n",
       "       43.980198, 40.399208, 39.59391 , 37.22228 , 35.94983 , 40.826518,\n",
       "       42.785502, 46.726278, 39.7868  , 38.79184 , 35.49763 , 36.49206 ,\n",
       "       36.55942 , 40.446368, 40.62147 , 46.540702, 45.725294, 43.487948,\n",
       "       37.28763 , 36.988752, 37.872256, 42.13782 , 41.990942, 44.39835 ,\n",
       "       45.407326, 45.28368 , 42.051222, 32.90459 , 37.272616, 39.713326,\n",
       "       40.32731 , 44.527966, 46.29971 , 43.68424 , 43.72803 , 35.242856,\n",
       "       35.657142, 40.4655  , 44.1844  , 44.524166, 46.08703 , 44.612656,\n",
       "       43.811694, 38.729336, 37.56372 , 37.560716, 45.240582, 42.59006 ,\n",
       "       42.565548, 43.998198, 42.671948, 40.080134])"
      ]
     },
     "execution_count": 36,
     "metadata": {},
     "output_type": "execute_result"
    }
   ],
   "source": [
    "np.diagonal(c)"
   ]
  },
  {
   "cell_type": "code",
   "execution_count": 37,
   "metadata": {},
   "outputs": [
    {
     "name": "stderr",
     "output_type": "stream",
     "text": [
      "/anaconda3/lib/python3.7/site-packages/ipykernel_launcher.py:1: FutureWarning: Method .as_matrix will be removed in a future version. Use .values instead.\n",
      "  \"\"\"Entry point for launching an IPython kernel.\n"
     ]
    }
   ],
   "source": [
    "test_df=pd.read_csv('testData.csv',header=None).as_matrix()\n",
    "test_label=pd.read_csv('testLabels.csv',header=None)\n",
    "testx=test_df.transpose()"
   ]
  },
  {
   "cell_type": "code",
   "execution_count": 38,
   "metadata": {},
   "outputs": [],
   "source": [
    "time_start=time.time()\n",
    "from scipy.stats import multivariate_normal\n",
    "pre=[]\n",
    "for i in range(testx.shape[1]):\n",
    "    p1=(multivariate_normal.pdf(testx[:,i], mean=mu1, cov=c))/((multivariate_normal.pdf(testx[:,i], mean=mu1, cov=c))+(multivariate_normal.pdf(testx[:,i], mean=mu2, cov=c)))\n",
    "    p2=1-p1\n",
    "    if p1>=p2:\n",
    "        pre.append(5)\n",
    "    else:\n",
    "        pre.append(6)\n",
    "        "
   ]
  },
  {
   "cell_type": "code",
   "execution_count": 39,
   "metadata": {},
   "outputs": [
    {
     "name": "stdout",
     "output_type": "stream",
     "text": [
      "totally cost 8.789808750152588\n"
     ]
    }
   ],
   "source": [
    "time_end=time.time()\n",
    "print('totally cost',time_end-time_start)"
   ]
  },
  {
   "cell_type": "code",
   "execution_count": 40,
   "metadata": {},
   "outputs": [
    {
     "data": {
      "text/plain": [
       "0.8909090909090909"
      ]
     },
     "execution_count": 40,
     "metadata": {},
     "output_type": "execute_result"
    }
   ],
   "source": [
    "from sklearn.metrics import accuracy_score\n",
    "accuracy_score(pre, test_label)"
   ]
  },
  {
   "cell_type": "code",
   "execution_count": 41,
   "metadata": {},
   "outputs": [
    {
     "name": "stdout",
     "output_type": "stream",
     "text": [
      "totally cost 1.4863862991333008\n"
     ]
    }
   ],
   "source": [
    "time_start=time.time()\n",
    "mu1=la5.mean()\n",
    "mu2=la6.mean()\n",
    "c1=la5.cov()*499/500\n",
    "c2=la6.cov()*499/500\n",
    "c=0.5*c1+0.5*c2\n",
    "time_end=time.time()\n",
    "print('totally cost',time_end-time_start)"
   ]
  },
  {
   "cell_type": "code",
   "execution_count": null,
   "metadata": {},
   "outputs": [],
   "source": []
  }
 ],
 "metadata": {
  "kernelspec": {
   "display_name": "Python 3",
   "language": "python",
   "name": "python3"
  },
  "language_info": {
   "codemirror_mode": {
    "name": "ipython",
    "version": 3
   },
   "file_extension": ".py",
   "mimetype": "text/x-python",
   "name": "python",
   "nbconvert_exporter": "python",
   "pygments_lexer": "ipython3",
   "version": "3.7.3"
  }
 },
 "nbformat": 4,
 "nbformat_minor": 2
}
